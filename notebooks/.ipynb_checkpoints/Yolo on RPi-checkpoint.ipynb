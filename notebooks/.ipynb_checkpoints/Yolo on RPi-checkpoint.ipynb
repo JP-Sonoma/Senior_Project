{
 "cells": [
  {
   "cell_type": "code",
   "execution_count": 1,
   "metadata": {
    "notebookRunGroups": {
     "groupValue": ""
    }
   },
   "outputs": [],
   "source": [
    "import cv2\n",
    "import numpy as np\n",
    "import time"
   ]
  },
  {
   "cell_type": "markdown",
   "metadata": {},
   "source": [
    "If the code was taken from github, then run this block to get to correct directory"
   ]
  },
  {
   "cell_type": "code",
   "execution_count": 2,
   "metadata": {},
   "outputs": [
    {
     "name": "stdout",
     "output_type": "stream",
     "text": [
      "/home/jp_zuniga/Yolo\n",
      "/home/jp_zuniga/Yolo/weights\n"
     ]
    },
    {
     "name": "stderr",
     "output_type": "stream",
     "text": [
      "/usr/local/lib/python3.9/dist-packages/IPython/core/magics/osm.py:417: UserWarning: using dhist requires you to install the `pickleshare` library.\n",
      "  self.shell.db['dhist'] = compress_dhist(dhist)[-100:]\n"
     ]
    }
   ],
   "source": [
    "%cd ../\n",
    "%cd weights"
   ]
  },
  {
   "cell_type": "code",
   "execution_count": 3,
   "metadata": {},
   "outputs": [],
   "source": [
    "net = cv2.dnn.readNet(\"yolov3-tiny-custom_best (4).weights\", \"yolov3-tiny-custom.cfg\")\n",
    "classes = []\n",
    "with open(\"obj.names\", \"r\") as f:\n",
    "    classes = [line.strip() for line in f.readlines()]"
   ]
  },
  {
   "cell_type": "code",
   "execution_count": 4,
   "metadata": {},
   "outputs": [],
   "source": [
    "layer_names = net.getLayerNames()"
   ]
  },
  {
   "cell_type": "markdown",
   "metadata": {},
   "source": [
    "Depending on the version of CV and NumPy you might have to run this code differently. Run the code below and if it errors out run the other code."
   ]
  },
  {
   "cell_type": "code",
   "execution_count": 19,
   "metadata": {},
   "outputs": [],
   "source": [
    "output_layers = [layer_names[i-1] for i in net.getUnconnectedOutLayers()]"
   ]
  },
  {
   "cell_type": "code",
   "execution_count": 5,
   "metadata": {},
   "outputs": [],
   "source": [
    "holder = net.getUnconnectedOutLayers()\n",
    "output_layers = []\n",
    "for i in holder:\n",
    "    output_layers.append(layer_names[int(i-1)])"
   ]
  },
  {
   "cell_type": "code",
   "execution_count": 6,
   "metadata": {},
   "outputs": [],
   "source": [
    "colors = np.random.uniform(0, 255, size=(len(classes), 3))"
   ]
  },
  {
   "cell_type": "code",
   "execution_count": 13,
   "metadata": {},
   "outputs": [],
   "source": [
    "cap = cv2.VideoCapture(0)\n",
    "cap.set(3,640)\n",
    "cap.set(4,480)\n",
    "font = cv2.FONT_HERSHEY_PLAIN\n",
    "frame_id = 1\n",
    "if not cap.isOpened():\n",
    "    raise ValueError(\"Error: Video capture not initialized.\")"
   ]
  },
  {
   "cell_type": "code",
   "execution_count": 14,
   "metadata": {},
   "outputs": [
    {
     "name": "stdout",
     "output_type": "stream",
     "text": [
      "0.6786535092289541\n",
      "1.9595513261052278\n",
      "2.0500310121697716\n",
      "2.7709427525345616\n",
      "2.752975446210273\n",
      "2.575004619815293\n",
      "2.8550704117973797\n",
      "2.458175654806663\n",
      "2.5473828055013166\n",
      "2.787826178276339\n",
      "2.228575557794242\n",
      "2.1826167230234286\n",
      "2.5192634001103973\n",
      "2.5283920134162647\n",
      "2.153906355514633\n",
      "2.2145158011726473\n",
      "2.4423600548763305\n",
      "2.7080799400314177\n",
      "2.6237242799512326\n",
      "2.47384718465453\n",
      "2.4863253127391522\n",
      "2.3989014125268024\n",
      "2.7067901692686065\n",
      "2.6562770738231913\n",
      "2.5905925195731823\n",
      "2.3859578864015947\n",
      "2.2379814592886573\n",
      "2.4609838527975967\n",
      "2.738125205638275\n",
      "2.2145730946231064\n",
      "2.091092015339546\n",
      "2.176038848349801\n",
      "2.521865708659642\n",
      "2.4158204612189276\n",
      "2.4961147582056653\n",
      "2.162114904418148\n",
      "2.2649154174264887\n",
      "1.9235003150569716\n",
      "2.5054591634977355\n",
      "2.099157745225563\n",
      "2.0512802455097874\n",
      "2.675863723302315\n",
      "2.615514225582664\n",
      "1.8838671543226317\n",
      "1.8697018367129512\n",
      "2.401223768216834\n",
      "2.6613232556398323\n",
      "2.6438832640577705\n",
      "2.376606458756061\n",
      "2.2029972036463947\n",
      "2.1330957295914814\n",
      "2.5645988717561155\n",
      "2.4505937906430795\n",
      "2.5330890212983888\n",
      "2.5409244562912705\n",
      "1.990840141047968\n",
      "2.3208725051322205\n",
      "2.189383044838384\n",
      "2.5202291716113217\n",
      "2.3953079580822934\n",
      "2.2125205661405496\n",
      "2.2575254814386616\n",
      "2.3505705352624475\n",
      "2.148878734456469\n",
      "2.1900975499211017\n",
      "2.2500568642682106\n",
      "1.7389680548933435\n",
      "2.2265395532486063\n",
      "1.9803172432809126\n",
      "2.308751371994685\n",
      "2.466062640741764\n",
      "2.582825149745585\n",
      "2.727504111443697\n",
      "2.597608564922192\n",
      "2.115156209656597\n",
      "2.524880672819288\n",
      "2.5746853236999363\n",
      "1.8588732605349567\n",
      "1.9685209659978373\n",
      "2.1696576182879466\n",
      "2.191177622979681\n",
      "2.4641053343367636\n",
      "2.5227621581826845\n",
      "2.159911467557072\n",
      "1.9097214349100369\n",
      "1.760060024019679\n",
      "2.07361440291254\n",
      "2.4440607626152233\n",
      "2.1631720097371785\n",
      "2.0457544648257184\n",
      "2.3374435325942184\n",
      "2.511225453861822\n",
      "2.667190654698882\n",
      "2.2653325541528626\n",
      "2.2104520347174974\n",
      "2.5786632008272767\n",
      "2.3411619448655574\n",
      "1.9834807043163352\n",
      "2.188594772486651\n",
      "2.131915006089292\n",
      "2.2080885782603796\n",
      "2.4677689431960057\n",
      "1.773283867626386\n",
      "1.6992387200644319\n",
      "2.1826144514614234\n",
      "2.1754485694635632\n",
      "2.0297550000992057\n",
      "1.714434500391381\n",
      "1.80206866269043\n",
      "1.7340734376899218\n",
      "1.6148192238110437\n",
      "1.8315729993131007\n",
      "2.059148357906478\n",
      "1.948221204158691\n"
     ]
    },
    {
     "ename": "KeyboardInterrupt",
     "evalue": "",
     "output_type": "error",
     "traceback": [
      "\u001b[0;31m---------------------------------------------------------------------------\u001b[0m",
      "\u001b[0;31mKeyboardInterrupt\u001b[0m                         Traceback (most recent call last)",
      "Cell \u001b[0;32mIn[14], line 8\u001b[0m\n\u001b[1;32m      5\u001b[0m blob \u001b[38;5;241m=\u001b[39m cv2\u001b[38;5;241m.\u001b[39mdnn\u001b[38;5;241m.\u001b[39mblobFromImage(frame, \u001b[38;5;241m0.00392\u001b[39m, (\u001b[38;5;241m64\u001b[39m, \u001b[38;5;241m64\u001b[39m), (\u001b[38;5;241m0\u001b[39m, \u001b[38;5;241m0\u001b[39m, \u001b[38;5;241m0\u001b[39m), \u001b[38;5;28;01mTrue\u001b[39;00m, crop\u001b[38;5;241m=\u001b[39m\u001b[38;5;28;01mFalse\u001b[39;00m)\n\u001b[1;32m      7\u001b[0m net\u001b[38;5;241m.\u001b[39msetInput(blob)\n\u001b[0;32m----> 8\u001b[0m outs \u001b[38;5;241m=\u001b[39m \u001b[43mnet\u001b[49m\u001b[38;5;241;43m.\u001b[39;49m\u001b[43mforward\u001b[49m\u001b[43m(\u001b[49m\u001b[43moutput_layers\u001b[49m\u001b[43m)\u001b[49m\n\u001b[1;32m     10\u001b[0m class_ids \u001b[38;5;241m=\u001b[39m []\n\u001b[1;32m     11\u001b[0m confidences \u001b[38;5;241m=\u001b[39m []\n",
      "\u001b[0;31mKeyboardInterrupt\u001b[0m: "
     ]
    }
   ],
   "source": [
    "\n",
    "while True:\n",
    "    starting_time = time.time()\n",
    "    _, frame = cap.read()\n",
    "    height, width, channels = frame.shape\n",
    "    blob = cv2.dnn.blobFromImage(frame, 0.00392, (64, 64), (0, 0, 0), True, crop=False)\n",
    "\n",
    "    net.setInput(blob)\n",
    "    outs = net.forward(output_layers)\n",
    "    \n",
    "    class_ids = []\n",
    "    confidences = []\n",
    "    boxes = []\n",
    "\n",
    "    for out in outs:\n",
    "        for detection in out:\n",
    "            scores = detection[5:]\n",
    "            class_id = np.argmax(scores)\n",
    "            confidence = scores[class_id]\n",
    "            if confidence > 0.80:\n",
    "                # Object detected\n",
    "                center_x = int(detection[0] * width)\n",
    "                center_y = int(detection[1] * height)\n",
    "                w = int(detection[2] * width)\n",
    "                h = int(detection[3] * height)\n",
    "                # Rectangle coordinates\n",
    "                x = int(center_x - w / 2)\n",
    "                y = int(center_y - h / 2)\n",
    "                boxes.append([x, y, w, h])\n",
    "                confidences.append(float(confidence))\n",
    "                print(class_id)\n",
    "                class_ids.append(class_id)\n",
    "\n",
    "    indexes = cv2.dnn.NMSBoxes(boxes, confidences, 0.5, 0.4)\n",
    "\n",
    "    for i in range(len(boxes)):\n",
    "        if i in indexes:\n",
    "            x, y, w, h = boxes[i]\n",
    "            label = str(classes[class_ids[i]])\n",
    "            confidence = confidences[i]\n",
    "            color = colors[class_ids[i]]\n",
    "            cv2.rectangle(frame, (x, y), (x + w, y + h), color, 2)\n",
    "            cv2.putText(frame, label + \" \" + str(round(confidence, 2)), (x, y + 30), font, 1, color, 2)  \n",
    "\n",
    "    elapsed_time = time.time() - starting_time\n",
    "    fps = frame_id / elapsed_time\n",
    "    print(fps)\n",
    "    cv2.putText(frame, \"FPS: \" + str(round(fps, 2)), (10, 50), font, 4, (0, 0, 0), 3)\n",
    "    cv2.imshow(\"Image\", frame)\n",
    "    key = cv2.waitKey(1)\n",
    "    #frame_id = frame_id + 1\n",
    "    if key == 27:\n",
    "        break\n",
    "\n",
    "cap.release()\n",
    "cv2.destroyAllWindows()"
   ]
  },
  {
   "cell_type": "code",
   "execution_count": 9,
   "metadata": {},
   "outputs": [],
   "source": [
    "cap.release()\n",
    "cv2.destroyAllWindows()"
   ]
  },
  {
   "cell_type": "code",
   "execution_count": null,
   "metadata": {},
   "outputs": [],
   "source": []
  }
 ],
 "metadata": {
  "kernelspec": {
   "display_name": "Python 3 (ipykernel)",
   "language": "python",
   "name": "python3"
  },
  "language_info": {
   "codemirror_mode": {
    "name": "ipython",
    "version": 3
   },
   "file_extension": ".py",
   "mimetype": "text/x-python",
   "name": "python",
   "nbconvert_exporter": "python",
   "pygments_lexer": "ipython3",
   "version": "3.9.2"
  }
 },
 "nbformat": 4,
 "nbformat_minor": 4
}
