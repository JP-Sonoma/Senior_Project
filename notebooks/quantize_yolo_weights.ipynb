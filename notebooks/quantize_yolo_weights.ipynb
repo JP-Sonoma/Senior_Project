{
 "cells": [
  {
   "cell_type": "code",
   "execution_count": 2,
   "metadata": {},
   "outputs": [],
   "source": [
    "import numpy as np"
   ]
  },
  {
   "cell_type": "code",
   "execution_count": 4,
   "metadata": {},
   "outputs": [
    {
     "name": "stdout",
     "output_type": "stream",
     "text": [
      "c:\\Users\\perez\\OneDrive\\Documents\\GitHub\\Yolo\n",
      "c:\\Users\\perez\\OneDrive\\Documents\\GitHub\\Yolo\\weights\n"
     ]
    }
   ],
   "source": [
    "%cd ../\n",
    "%cd weights"
   ]
  },
  {
   "cell_type": "code",
   "execution_count": 6,
   "metadata": {},
   "outputs": [],
   "source": [
    "def load_weights(weights_file):\n",
    "  \"\"\"Loads YOLOv3 weights to NumPy.\n",
    "\n",
    "  Args:\n",
    "    weights_file: Path to the YOLOv3 weights file.\n",
    "\n",
    "  Returns:\n",
    "    A NumPy array containing the weights.\n",
    "  \"\"\"\n",
    "\n",
    "  with open(weights_file, \"rb\") as f:\n",
    "    # The first 5 values are header information.\n",
    "    header = np.fromfile(f, dtype=np.int32, count=5)\n",
    "    # The rest of the file are the weights.\n",
    "    weights = np.fromfile(f, dtype=np.float32)\n",
    "\n",
    "  return weights"
   ]
  },
  {
   "cell_type": "code",
   "execution_count": 12,
   "metadata": {},
   "outputs": [
    {
     "name": "stdout",
     "output_type": "stream",
     "text": [
      "[-4.1546893e+00 -9.5852315e-01 -2.0642989e+00 ... -2.0833481e-03\n",
      " -1.6854202e-03  4.9072229e-03]\n",
      "[-5.2764557e+02 -1.2173244e+02 -2.6216595e+02 ... -2.6458520e-01\n",
      " -2.1404836e-01  6.2321728e-01]\n"
     ]
    }
   ],
   "source": [
    "\n",
    "\n",
    "# Load the weights.\n",
    "weights = load_weights(\"yolov3-tiny-custom_best (4).weights\")\n",
    "print(weights)\n",
    "\n",
    "scaled_weights = weights * 127\n",
    "\n",
    "print(scaled_weights)"
   ]
  },
  {
   "cell_type": "code",
   "execution_count": 14,
   "metadata": {},
   "outputs": [
    {
     "name": "stdout",
     "output_type": "stream",
     "text": [
      "[ -16 -122   -6 ...    0    0    1]\n"
     ]
    }
   ],
   "source": [
    "quant_weights = np.round(scaled_weights).astype(np.int8)\n",
    "print(quant_weights)"
   ]
  },
  {
   "cell_type": "code",
   "execution_count": 15,
   "metadata": {},
   "outputs": [
    {
     "ename": "ModuleNotFoundError",
     "evalue": "No module named 'darknet'",
     "output_type": "error",
     "traceback": [
      "\u001b[1;31m---------------------------------------------------------------------------\u001b[0m",
      "\u001b[1;31mModuleNotFoundError\u001b[0m                       Traceback (most recent call last)",
      "Cell \u001b[1;32mIn[15], line 1\u001b[0m\n\u001b[1;32m----> 1\u001b[0m \u001b[38;5;28;01mimport\u001b[39;00m \u001b[38;5;21;01mdarknet\u001b[39;00m\n",
      "\u001b[1;31mModuleNotFoundError\u001b[0m: No module named 'darknet'"
     ]
    }
   ],
   "source": []
  }
 ],
 "metadata": {
  "kernelspec": {
   "display_name": "Python 3",
   "language": "python",
   "name": "python3"
  },
  "language_info": {
   "codemirror_mode": {
    "name": "ipython",
    "version": 3
   },
   "file_extension": ".py",
   "mimetype": "text/x-python",
   "name": "python",
   "nbconvert_exporter": "python",
   "pygments_lexer": "ipython3",
   "version": "undefined.undefined.undefined"
  }
 },
 "nbformat": 4,
 "nbformat_minor": 2
}
