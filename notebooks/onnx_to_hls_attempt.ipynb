{
 "cells": [
  {
   "cell_type": "code",
   "execution_count": 1,
   "metadata": {},
   "outputs": [
    {
     "name": "stdout",
     "output_type": "stream",
     "text": [
      "WARNING:tensorflow:From c:\\Users\\perez\\AppData\\Local\\Programs\\Python\\Python311\\Lib\\site-packages\\tf_keras\\src\\losses.py:2976: The name tf.losses.sparse_softmax_cross_entropy is deprecated. Please use tf.compat.v1.losses.sparse_softmax_cross_entropy instead.\n",
      "\n"
     ]
    }
   ],
   "source": [
    "import hls4ml"
   ]
  },
  {
   "cell_type": "code",
   "execution_count": 4,
   "metadata": {},
   "outputs": [
    {
     "name": "stdout",
     "output_type": "stream",
     "text": [
      "c:\\Users\\perez\\OneDrive\\Documents\\GitHub\\Yolo\n",
      "c:\\Users\\perez\\OneDrive\\Documents\\GitHub\\Yolo\\weights\n"
     ]
    }
   ],
   "source": [
    "%cd ../\n",
    "%cd weights"
   ]
  },
  {
   "cell_type": "code",
   "execution_count": 9,
   "metadata": {},
   "outputs": [],
   "source": [
    "import onnx2keras\n",
    "import onnx"
   ]
  },
  {
   "cell_type": "code",
   "execution_count": 5,
   "metadata": {},
   "outputs": [
    {
     "name": "stdout",
     "output_type": "stream",
     "text": [
      " Volume in drive C is Windows-SSD\n",
      " Volume Serial Number is 60C1-BEC3\n",
      "\n",
      " Directory of c:\\Users\\perez\\OneDrive\\Documents\\GitHub\\Yolo\\weights\n",
      "\n",
      "04/07/2024  03:39 PM    <DIR>          .\n",
      "04/07/2024  05:21 PM    <DIR>          ..\n",
      "04/05/2024  03:54 PM        28,520,629 best (1).onnx\n",
      "04/05/2024  04:15 PM                27 obj.names\n",
      "04/06/2024  01:13 PM             2,083 yolov3-tiny-custom (1).cfg\n",
      "03/10/2024  04:41 PM             2,084 yolov3-tiny-custom.cfg\n",
      "03/06/2024  05:02 PM        34,723,476 yolov3-tiny-custom_best (4).weights\n",
      "03/21/2024  03:32 PM        34,741,956 yolov3-tiny-custom_best (5).weights\n",
      "04/07/2024  03:37 PM        34,741,956 yolov3_tiny_5_gestures.weights\n",
      "04/06/2024  01:00 PM        14,095,739 yolov5_half_export.onnx\n",
      "04/07/2024  01:38 PM        28,121,436 YOLOv5_keras_three_gestures_17.onnx\n",
      "04/06/2024  12:55 PM        14,236,904 YOLOv5_three_gestures.pt\n",
      "04/07/2024  01:42 PM        28,134,225 YOLOv5_three_gestures_int8_12.onnx\n",
      "              11 File(s)    217,320,515 bytes\n",
      "               2 Dir(s)  177,212,043,264 bytes free\n"
     ]
    }
   ],
   "source": [
    "!dir"
   ]
  },
  {
   "cell_type": "code",
   "execution_count": 11,
   "metadata": {},
   "outputs": [
    {
     "name": "stderr",
     "output_type": "stream",
     "text": [
      "INFO:onnx2keras:Converter is called.\n",
      "DEBUG:onnx2keras:List input shapes:\n",
      "DEBUG:onnx2keras:None\n",
      "DEBUG:onnx2keras:List inputs:\n",
      "DEBUG:onnx2keras:Input 0 -> images.\n",
      "DEBUG:onnx2keras:List outputs:\n",
      "DEBUG:onnx2keras:Output 0 -> output0.\n",
      "DEBUG:onnx2keras:Gathering weights to dictionary.\n",
      "DEBUG:onnx2keras:Found weight model.0.conv.weight with shape (32, 3, 6, 6).\n",
      "DEBUG:onnx2keras:Found weight model.0.conv.bias with shape (32,).\n",
      "DEBUG:onnx2keras:Found weight model.1.conv.weight with shape (64, 32, 3, 3).\n",
      "DEBUG:onnx2keras:Found weight model.1.conv.bias with shape (64,).\n",
      "DEBUG:onnx2keras:Found weight model.2.cv1.conv.weight with shape (32, 64, 1, 1).\n",
      "DEBUG:onnx2keras:Found weight model.2.cv1.conv.bias with shape (32,).\n",
      "DEBUG:onnx2keras:Found weight model.2.cv2.conv.weight with shape (32, 64, 1, 1).\n",
      "DEBUG:onnx2keras:Found weight model.2.cv2.conv.bias with shape (32,).\n",
      "DEBUG:onnx2keras:Found weight model.2.cv3.conv.weight with shape (64, 64, 1, 1).\n",
      "DEBUG:onnx2keras:Found weight model.2.cv3.conv.bias with shape (64,).\n",
      "DEBUG:onnx2keras:Found weight model.2.m.0.cv1.conv.weight with shape (32, 32, 1, 1).\n",
      "DEBUG:onnx2keras:Found weight model.2.m.0.cv1.conv.bias with shape (32,).\n",
      "DEBUG:onnx2keras:Found weight model.2.m.0.cv2.conv.weight with shape (32, 32, 3, 3).\n",
      "DEBUG:onnx2keras:Found weight model.2.m.0.cv2.conv.bias with shape (32,).\n",
      "DEBUG:onnx2keras:Found weight model.3.conv.weight with shape (128, 64, 3, 3).\n",
      "DEBUG:onnx2keras:Found weight model.3.conv.bias with shape (128,).\n",
      "DEBUG:onnx2keras:Found weight model.4.cv1.conv.weight with shape (64, 128, 1, 1).\n",
      "DEBUG:onnx2keras:Found weight model.4.cv1.conv.bias with shape (64,).\n",
      "DEBUG:onnx2keras:Found weight model.4.cv2.conv.weight with shape (64, 128, 1, 1).\n",
      "DEBUG:onnx2keras:Found weight model.4.cv2.conv.bias with shape (64,).\n",
      "DEBUG:onnx2keras:Found weight model.4.cv3.conv.weight with shape (128, 128, 1, 1).\n",
      "DEBUG:onnx2keras:Found weight model.4.cv3.conv.bias with shape (128,).\n",
      "DEBUG:onnx2keras:Found weight model.4.m.0.cv1.conv.weight with shape (64, 64, 1, 1).\n",
      "DEBUG:onnx2keras:Found weight model.4.m.0.cv1.conv.bias with shape (64,).\n",
      "DEBUG:onnx2keras:Found weight model.4.m.0.cv2.conv.weight with shape (64, 64, 3, 3).\n",
      "DEBUG:onnx2keras:Found weight model.4.m.0.cv2.conv.bias with shape (64,).\n",
      "DEBUG:onnx2keras:Found weight model.4.m.1.cv1.conv.weight with shape (64, 64, 1, 1).\n",
      "DEBUG:onnx2keras:Found weight model.4.m.1.cv1.conv.bias with shape (64,).\n",
      "DEBUG:onnx2keras:Found weight model.4.m.1.cv2.conv.weight with shape (64, 64, 3, 3).\n",
      "DEBUG:onnx2keras:Found weight model.4.m.1.cv2.conv.bias with shape (64,).\n",
      "DEBUG:onnx2keras:Found weight model.5.conv.weight with shape (256, 128, 3, 3).\n",
      "DEBUG:onnx2keras:Found weight model.5.conv.bias with shape (256,).\n",
      "DEBUG:onnx2keras:Found weight model.6.cv1.conv.weight with shape (128, 256, 1, 1).\n",
      "DEBUG:onnx2keras:Found weight model.6.cv1.conv.bias with shape (128,).\n",
      "DEBUG:onnx2keras:Found weight model.6.cv2.conv.weight with shape (128, 256, 1, 1).\n",
      "DEBUG:onnx2keras:Found weight model.6.cv2.conv.bias with shape (128,).\n",
      "DEBUG:onnx2keras:Found weight model.6.cv3.conv.weight with shape (256, 256, 1, 1).\n",
      "DEBUG:onnx2keras:Found weight model.6.cv3.conv.bias with shape (256,).\n",
      "DEBUG:onnx2keras:Found weight model.6.m.0.cv1.conv.weight with shape (128, 128, 1, 1).\n",
      "DEBUG:onnx2keras:Found weight model.6.m.0.cv1.conv.bias with shape (128,).\n",
      "DEBUG:onnx2keras:Found weight model.6.m.0.cv2.conv.weight with shape (128, 128, 3, 3).\n",
      "DEBUG:onnx2keras:Found weight model.6.m.0.cv2.conv.bias with shape (128,).\n",
      "DEBUG:onnx2keras:Found weight model.6.m.1.cv1.conv.weight with shape (128, 128, 1, 1).\n",
      "DEBUG:onnx2keras:Found weight model.6.m.1.cv1.conv.bias with shape (128,).\n",
      "DEBUG:onnx2keras:Found weight model.6.m.1.cv2.conv.weight with shape (128, 128, 3, 3).\n",
      "DEBUG:onnx2keras:Found weight model.6.m.1.cv2.conv.bias with shape (128,).\n",
      "DEBUG:onnx2keras:Found weight model.6.m.2.cv1.conv.weight with shape (128, 128, 1, 1).\n",
      "DEBUG:onnx2keras:Found weight model.6.m.2.cv1.conv.bias with shape (128,).\n",
      "DEBUG:onnx2keras:Found weight model.6.m.2.cv2.conv.weight with shape (128, 128, 3, 3).\n",
      "DEBUG:onnx2keras:Found weight model.6.m.2.cv2.conv.bias with shape (128,).\n",
      "DEBUG:onnx2keras:Found weight model.7.conv.weight with shape (512, 256, 3, 3).\n",
      "DEBUG:onnx2keras:Found weight model.7.conv.bias with shape (512,).\n",
      "DEBUG:onnx2keras:Found weight model.8.cv1.conv.weight with shape (256, 512, 1, 1).\n",
      "DEBUG:onnx2keras:Found weight model.8.cv1.conv.bias with shape (256,).\n",
      "DEBUG:onnx2keras:Found weight model.8.cv2.conv.weight with shape (256, 512, 1, 1).\n",
      "DEBUG:onnx2keras:Found weight model.8.cv2.conv.bias with shape (256,).\n",
      "DEBUG:onnx2keras:Found weight model.8.cv3.conv.weight with shape (512, 512, 1, 1).\n",
      "DEBUG:onnx2keras:Found weight model.8.cv3.conv.bias with shape (512,).\n",
      "DEBUG:onnx2keras:Found weight model.8.m.0.cv1.conv.weight with shape (256, 256, 1, 1).\n",
      "DEBUG:onnx2keras:Found weight model.8.m.0.cv1.conv.bias with shape (256,).\n",
      "DEBUG:onnx2keras:Found weight model.8.m.0.cv2.conv.weight with shape (256, 256, 3, 3).\n",
      "DEBUG:onnx2keras:Found weight model.8.m.0.cv2.conv.bias with shape (256,).\n",
      "DEBUG:onnx2keras:Found weight model.9.cv1.conv.weight with shape (256, 512, 1, 1).\n",
      "DEBUG:onnx2keras:Found weight model.9.cv1.conv.bias with shape (256,).\n",
      "DEBUG:onnx2keras:Found weight model.9.cv2.conv.weight with shape (512, 1024, 1, 1).\n",
      "DEBUG:onnx2keras:Found weight model.9.cv2.conv.bias with shape (512,).\n",
      "DEBUG:onnx2keras:Found weight model.10.conv.weight with shape (256, 512, 1, 1).\n",
      "DEBUG:onnx2keras:Found weight model.10.conv.bias with shape (256,).\n",
      "DEBUG:onnx2keras:Found weight model.13.cv1.conv.weight with shape (128, 512, 1, 1).\n",
      "DEBUG:onnx2keras:Found weight model.13.cv1.conv.bias with shape (128,).\n",
      "DEBUG:onnx2keras:Found weight model.13.cv2.conv.weight with shape (128, 512, 1, 1).\n",
      "DEBUG:onnx2keras:Found weight model.13.cv2.conv.bias with shape (128,).\n",
      "DEBUG:onnx2keras:Found weight model.13.cv3.conv.weight with shape (256, 256, 1, 1).\n",
      "DEBUG:onnx2keras:Found weight model.13.cv3.conv.bias with shape (256,).\n",
      "DEBUG:onnx2keras:Found weight model.13.m.0.cv1.conv.weight with shape (128, 128, 1, 1).\n",
      "DEBUG:onnx2keras:Found weight model.13.m.0.cv1.conv.bias with shape (128,).\n",
      "DEBUG:onnx2keras:Found weight model.13.m.0.cv2.conv.weight with shape (128, 128, 3, 3).\n",
      "DEBUG:onnx2keras:Found weight model.13.m.0.cv2.conv.bias with shape (128,).\n",
      "DEBUG:onnx2keras:Found weight model.14.conv.weight with shape (128, 256, 1, 1).\n",
      "DEBUG:onnx2keras:Found weight model.14.conv.bias with shape (128,).\n",
      "DEBUG:onnx2keras:Found weight model.17.cv1.conv.weight with shape (64, 256, 1, 1).\n",
      "DEBUG:onnx2keras:Found weight model.17.cv1.conv.bias with shape (64,).\n",
      "DEBUG:onnx2keras:Found weight model.17.cv2.conv.weight with shape (64, 256, 1, 1).\n",
      "DEBUG:onnx2keras:Found weight model.17.cv2.conv.bias with shape (64,).\n",
      "DEBUG:onnx2keras:Found weight model.17.cv3.conv.weight with shape (128, 128, 1, 1).\n",
      "DEBUG:onnx2keras:Found weight model.17.cv3.conv.bias with shape (128,).\n",
      "DEBUG:onnx2keras:Found weight model.17.m.0.cv1.conv.weight with shape (64, 64, 1, 1).\n",
      "DEBUG:onnx2keras:Found weight model.17.m.0.cv1.conv.bias with shape (64,).\n",
      "DEBUG:onnx2keras:Found weight model.17.m.0.cv2.conv.weight with shape (64, 64, 3, 3).\n",
      "DEBUG:onnx2keras:Found weight model.17.m.0.cv2.conv.bias with shape (64,).\n",
      "DEBUG:onnx2keras:Found weight model.18.conv.weight with shape (128, 128, 3, 3).\n",
      "DEBUG:onnx2keras:Found weight model.18.conv.bias with shape (128,).\n",
      "DEBUG:onnx2keras:Found weight model.20.cv1.conv.weight with shape (128, 256, 1, 1).\n",
      "DEBUG:onnx2keras:Found weight model.20.cv1.conv.bias with shape (128,).\n",
      "DEBUG:onnx2keras:Found weight model.20.cv2.conv.weight with shape (128, 256, 1, 1).\n",
      "DEBUG:onnx2keras:Found weight model.20.cv2.conv.bias with shape (128,).\n",
      "DEBUG:onnx2keras:Found weight model.20.cv3.conv.weight with shape (256, 256, 1, 1).\n",
      "DEBUG:onnx2keras:Found weight model.20.cv3.conv.bias with shape (256,).\n",
      "DEBUG:onnx2keras:Found weight model.20.m.0.cv1.conv.weight with shape (128, 128, 1, 1).\n",
      "DEBUG:onnx2keras:Found weight model.20.m.0.cv1.conv.bias with shape (128,).\n",
      "DEBUG:onnx2keras:Found weight model.20.m.0.cv2.conv.weight with shape (128, 128, 3, 3).\n",
      "DEBUG:onnx2keras:Found weight model.20.m.0.cv2.conv.bias with shape (128,).\n",
      "DEBUG:onnx2keras:Found weight model.21.conv.weight with shape (256, 256, 3, 3).\n",
      "DEBUG:onnx2keras:Found weight model.21.conv.bias with shape (256,).\n",
      "DEBUG:onnx2keras:Found weight model.23.cv1.conv.weight with shape (256, 512, 1, 1).\n",
      "DEBUG:onnx2keras:Found weight model.23.cv1.conv.bias with shape (256,).\n",
      "DEBUG:onnx2keras:Found weight model.23.cv2.conv.weight with shape (256, 512, 1, 1).\n",
      "DEBUG:onnx2keras:Found weight model.23.cv2.conv.bias with shape (256,).\n",
      "DEBUG:onnx2keras:Found weight model.23.cv3.conv.weight with shape (512, 512, 1, 1).\n",
      "DEBUG:onnx2keras:Found weight model.23.cv3.conv.bias with shape (512,).\n",
      "DEBUG:onnx2keras:Found weight model.23.m.0.cv1.conv.weight with shape (256, 256, 1, 1).\n",
      "DEBUG:onnx2keras:Found weight model.23.m.0.cv1.conv.bias with shape (256,).\n",
      "DEBUG:onnx2keras:Found weight model.23.m.0.cv2.conv.weight with shape (256, 256, 3, 3).\n",
      "DEBUG:onnx2keras:Found weight model.23.m.0.cv2.conv.bias with shape (256,).\n",
      "DEBUG:onnx2keras:Found weight model.24.m.0.weight with shape (24, 128, 1, 1).\n",
      "DEBUG:onnx2keras:Found weight model.24.m.0.bias with shape (24,).\n",
      "DEBUG:onnx2keras:Found weight model.24.m.1.weight with shape (24, 256, 1, 1).\n",
      "DEBUG:onnx2keras:Found weight model.24.m.1.bias with shape (24,).\n",
      "DEBUG:onnx2keras:Found weight model.24.m.2.weight with shape (24, 512, 1, 1).\n",
      "DEBUG:onnx2keras:Found weight model.24.m.2.bias with shape (24,).\n",
      "DEBUG:onnx2keras:Found weight /model.11/Constant_output_0 with shape (4,).\n",
      "DEBUG:onnx2keras:Found weight /model.11/Constant_1_output_0 with shape (0,).\n",
      "DEBUG:onnx2keras:Found weight /model.24/Constant_output_0 with shape (5,).\n",
      "DEBUG:onnx2keras:Found weight /model.24/Constant_1_output_0 with shape ().\n",
      "DEBUG:onnx2keras:Found weight /model.24/Constant_2_output_0 with shape (1, 3, 8, 8, 2).\n",
      "DEBUG:onnx2keras:Found weight /model.24/Constant_3_output_0 with shape ().\n",
      "DEBUG:onnx2keras:Found weight /model.24/Constant_6_output_0 with shape (1, 3, 8, 8, 2).\n",
      "DEBUG:onnx2keras:Found weight /model.24/Constant_7_output_0 with shape (3,).\n",
      "DEBUG:onnx2keras:Found weight /model.24/Constant_8_output_0 with shape (5,).\n",
      "DEBUG:onnx2keras:Found weight /model.24/Constant_10_output_0 with shape (1, 3, 4, 4, 2).\n",
      "DEBUG:onnx2keras:Found weight /model.24/Constant_11_output_0 with shape ().\n",
      "DEBUG:onnx2keras:Found weight /model.24/Constant_14_output_0 with shape (1, 3, 4, 4, 2).\n",
      "DEBUG:onnx2keras:Found weight /model.24/Constant_15_output_0 with shape (3,).\n",
      "DEBUG:onnx2keras:Found weight /model.24/Constant_16_output_0 with shape (5,).\n",
      "DEBUG:onnx2keras:Found weight /model.24/Constant_18_output_0 with shape (1, 3, 2, 2, 2).\n",
      "DEBUG:onnx2keras:Found weight /model.24/Constant_19_output_0 with shape ().\n",
      "DEBUG:onnx2keras:Found weight /model.24/Constant_22_output_0 with shape (1, 3, 2, 2, 2).\n",
      "DEBUG:onnx2keras:Found weight /model.24/Constant_23_output_0 with shape (3,).\n",
      "c:\\Users\\perez\\AppData\\Local\\Programs\\Python\\Python311\\Lib\\site-packages\\keras\\src\\layers\\core\\input_layer.py:25: UserWarning: Argument `input_shape` is deprecated. Use `shape` instead.\n",
      "  warnings.warn(\n",
      "DEBUG:onnx2keras:Found input images with shape [3, 64, 64]\n",
      "DEBUG:onnx2keras:######\n",
      "DEBUG:onnx2keras:...\n",
      "DEBUG:onnx2keras:Converting ONNX operation\n",
      "DEBUG:onnx2keras:type: Conv\n",
      "DEBUG:onnx2keras:node_name: /model.0/conv/Conv_output_0\n",
      "DEBUG:onnx2keras:node_params: {'dilations': [1, 1], 'group': 1, 'kernel_shape': [6, 6], 'pads': [2, 2, 2, 2], 'strides': [2, 2], 'change_ordering': False, 'name_policy': None}\n",
      "DEBUG:onnx2keras:...\n",
      "DEBUG:onnx2keras:Check if all inputs are available:\n",
      "DEBUG:onnx2keras:Check input 0 (name images).\n",
      "DEBUG:onnx2keras:Check input 1 (name model.0.conv.weight).\n",
      "DEBUG:onnx2keras:The input not found in layers / model inputs.\n",
      "DEBUG:onnx2keras:Found in weights, add as a numpy constant.\n",
      "DEBUG:onnx2keras:Check input 2 (name model.0.conv.bias).\n",
      "DEBUG:onnx2keras:The input not found in layers / model inputs.\n",
      "DEBUG:onnx2keras:Found in weights, add as a numpy constant.\n",
      "DEBUG:onnx2keras:... found all, continue\n",
      "DEBUG:onnx2keras:conv:Conv with bias\n",
      "DEBUG:onnx2keras:conv:2D convolution\n",
      "DEBUG:onnx2keras:conv:Paddings exist, add ZeroPadding layer\n"
     ]
    },
    {
     "ename": "ValueError",
     "evalue": "Argument `name` must be a string and cannot contain character `/`. Received: name=/model.0/conv/Conv_output_0_pad (of type <class 'str'>)",
     "output_type": "error",
     "traceback": [
      "\u001b[1;31m---------------------------------------------------------------------------\u001b[0m",
      "\u001b[1;31mValueError\u001b[0m                                Traceback (most recent call last)",
      "Cell \u001b[1;32mIn[11], line 2\u001b[0m\n\u001b[0;32m      1\u001b[0m model_name \u001b[38;5;241m=\u001b[39m onnx\u001b[38;5;241m.\u001b[39mload_model(\u001b[38;5;124m'\u001b[39m\u001b[38;5;124mYOLOv5_three_gestures_int8_12.onnx\u001b[39m\u001b[38;5;124m'\u001b[39m)\n\u001b[1;32m----> 2\u001b[0m \u001b[43monnx2keras\u001b[49m\u001b[38;5;241;43m.\u001b[39;49m\u001b[43monnx_to_keras\u001b[49m\u001b[43m(\u001b[49m\u001b[43mmodel_name\u001b[49m\u001b[43m,\u001b[49m\u001b[43m[\u001b[49m\u001b[38;5;124;43m'\u001b[39;49m\u001b[38;5;124;43mimages\u001b[39;49m\u001b[38;5;124;43m'\u001b[39;49m\u001b[43m]\u001b[49m\u001b[43m)\u001b[49m\n",
      "File \u001b[1;32mc:\\Users\\perez\\AppData\\Local\\Programs\\Python\\Python311\\Lib\\site-packages\\onnx2keras\\converter.py:175\u001b[0m, in \u001b[0;36monnx_to_keras\u001b[1;34m(onnx_model, input_names, input_shapes, name_policy, verbose, change_ordering)\u001b[0m\n\u001b[0;32m    172\u001b[0m     logger\u001b[38;5;241m.\u001b[39mdebug(\u001b[38;5;124m'\u001b[39m\u001b[38;5;124m... found all, continue\u001b[39m\u001b[38;5;124m'\u001b[39m)\n\u001b[0;32m    174\u001b[0m keras\u001b[38;5;241m.\u001b[39mbackend\u001b[38;5;241m.\u001b[39mset_image_data_format(\u001b[38;5;124m'\u001b[39m\u001b[38;5;124mchannels_first\u001b[39m\u001b[38;5;124m'\u001b[39m)\n\u001b[1;32m--> 175\u001b[0m \u001b[43mAVAILABLE_CONVERTERS\u001b[49m\u001b[43m[\u001b[49m\u001b[43mnode_type\u001b[49m\u001b[43m]\u001b[49m\u001b[43m(\u001b[49m\n\u001b[0;32m    176\u001b[0m \u001b[43m    \u001b[49m\u001b[43mnode\u001b[49m\u001b[43m,\u001b[49m\n\u001b[0;32m    177\u001b[0m \u001b[43m    \u001b[49m\u001b[43mnode_params\u001b[49m\u001b[43m,\u001b[49m\n\u001b[0;32m    178\u001b[0m \u001b[43m    \u001b[49m\u001b[43mlayers\u001b[49m\u001b[43m,\u001b[49m\n\u001b[0;32m    179\u001b[0m \u001b[43m    \u001b[49m\u001b[43mlambda_funcs\u001b[49m\u001b[43m,\u001b[49m\n\u001b[0;32m    180\u001b[0m \u001b[43m    \u001b[49m\u001b[43mnode_name\u001b[49m\u001b[43m,\u001b[49m\n\u001b[0;32m    181\u001b[0m \u001b[43m    \u001b[49m\u001b[43mkeras_names\u001b[49m\n\u001b[0;32m    182\u001b[0m \u001b[43m\u001b[49m\u001b[43m)\u001b[49m\n\u001b[0;32m    183\u001b[0m \u001b[38;5;28;01mif\u001b[39;00m \u001b[38;5;28misinstance\u001b[39m(keras_names, \u001b[38;5;28mlist\u001b[39m):\n\u001b[0;32m    184\u001b[0m     keras_names \u001b[38;5;241m=\u001b[39m keras_names[\u001b[38;5;241m0\u001b[39m]\n",
      "File \u001b[1;32mc:\\Users\\perez\\AppData\\Local\\Programs\\Python\\Python311\\Lib\\site-packages\\onnx2keras\\convolution_layers.py:86\u001b[0m, in \u001b[0;36mconvert_conv\u001b[1;34m(node, params, layers, lambda_func, node_name, keras_name)\u001b[0m\n\u001b[0;32m     84\u001b[0m     logger\u001b[38;5;241m.\u001b[39mdebug(\u001b[38;5;124m'\u001b[39m\u001b[38;5;124mPaddings exist, add ZeroPadding layer\u001b[39m\u001b[38;5;124m'\u001b[39m)\n\u001b[0;32m     85\u001b[0m     padding_name \u001b[38;5;241m=\u001b[39m keras_name \u001b[38;5;241m+\u001b[39m \u001b[38;5;124m'\u001b[39m\u001b[38;5;124m_pad\u001b[39m\u001b[38;5;124m'\u001b[39m\n\u001b[1;32m---> 86\u001b[0m     padding_layer \u001b[38;5;241m=\u001b[39m \u001b[43mkeras\u001b[49m\u001b[38;5;241;43m.\u001b[39;49m\u001b[43mlayers\u001b[49m\u001b[38;5;241;43m.\u001b[39;49m\u001b[43mZeroPadding2D\u001b[49m\u001b[43m(\u001b[49m\n\u001b[0;32m     87\u001b[0m \u001b[43m        \u001b[49m\u001b[43mpadding\u001b[49m\u001b[38;5;241;43m=\u001b[39;49m\u001b[43mpadding\u001b[49m\u001b[43m,\u001b[49m\n\u001b[0;32m     88\u001b[0m \u001b[43m        \u001b[49m\u001b[43mname\u001b[49m\u001b[38;5;241;43m=\u001b[39;49m\u001b[43mpadding_name\u001b[49m\u001b[43m,\u001b[49m\n\u001b[0;32m     89\u001b[0m \u001b[43m        \u001b[49m\u001b[43mdata_format\u001b[49m\u001b[38;5;241;43m=\u001b[39;49m\u001b[38;5;124;43m'\u001b[39;49m\u001b[38;5;124;43mchannels_first\u001b[39;49m\u001b[38;5;124;43m'\u001b[39;49m\n\u001b[0;32m     90\u001b[0m \u001b[43m    \u001b[49m\u001b[43m)\u001b[49m\n\u001b[0;32m     91\u001b[0m     layers[padding_name] \u001b[38;5;241m=\u001b[39m input_0 \u001b[38;5;241m=\u001b[39m padding_layer(input_0)\n\u001b[0;32m     93\u001b[0m W \u001b[38;5;241m=\u001b[39m W\u001b[38;5;241m.\u001b[39mtranspose(\u001b[38;5;241m2\u001b[39m, \u001b[38;5;241m3\u001b[39m, \u001b[38;5;241m1\u001b[39m, \u001b[38;5;241m0\u001b[39m)\n",
      "File \u001b[1;32mc:\\Users\\perez\\AppData\\Local\\Programs\\Python\\Python311\\Lib\\site-packages\\keras\\src\\layers\\reshaping\\zero_padding2d.py:72\u001b[0m, in \u001b[0;36mZeroPadding2D.__init__\u001b[1;34m(self, padding, data_format, **kwargs)\u001b[0m\n\u001b[0;32m     71\u001b[0m \u001b[38;5;28;01mdef\u001b[39;00m \u001b[38;5;21m__init__\u001b[39m(\u001b[38;5;28mself\u001b[39m, padding\u001b[38;5;241m=\u001b[39m(\u001b[38;5;241m1\u001b[39m, \u001b[38;5;241m1\u001b[39m), data_format\u001b[38;5;241m=\u001b[39m\u001b[38;5;28;01mNone\u001b[39;00m, \u001b[38;5;241m*\u001b[39m\u001b[38;5;241m*\u001b[39mkwargs):\n\u001b[1;32m---> 72\u001b[0m     \u001b[38;5;28;43msuper\u001b[39;49m\u001b[43m(\u001b[49m\u001b[43m)\u001b[49m\u001b[38;5;241;43m.\u001b[39;49m\u001b[38;5;21;43m__init__\u001b[39;49m\u001b[43m(\u001b[49m\u001b[38;5;241;43m*\u001b[39;49m\u001b[38;5;241;43m*\u001b[39;49m\u001b[43mkwargs\u001b[49m\u001b[43m)\u001b[49m\n\u001b[0;32m     73\u001b[0m     \u001b[38;5;28mself\u001b[39m\u001b[38;5;241m.\u001b[39mdata_format \u001b[38;5;241m=\u001b[39m backend\u001b[38;5;241m.\u001b[39mstandardize_data_format(data_format)\n\u001b[0;32m     74\u001b[0m     \u001b[38;5;28;01mif\u001b[39;00m \u001b[38;5;28misinstance\u001b[39m(padding, \u001b[38;5;28mint\u001b[39m):\n",
      "File \u001b[1;32mc:\\Users\\perez\\AppData\\Local\\Programs\\Python\\Python311\\Lib\\site-packages\\keras\\src\\layers\\layer.py:247\u001b[0m, in \u001b[0;36mLayer.__init__\u001b[1;34m(self, activity_regularizer, trainable, dtype, autocast, name, **kwargs)\u001b[0m\n\u001b[0;32m    245\u001b[0m BackendLayer\u001b[38;5;241m.\u001b[39m\u001b[38;5;21m__init__\u001b[39m(\u001b[38;5;28mself\u001b[39m)\n\u001b[0;32m    246\u001b[0m \u001b[38;5;28mself\u001b[39m\u001b[38;5;241m.\u001b[39m_lock \u001b[38;5;241m=\u001b[39m \u001b[38;5;28;01mFalse\u001b[39;00m\n\u001b[1;32m--> 247\u001b[0m \u001b[43mOperation\u001b[49m\u001b[38;5;241;43m.\u001b[39;49m\u001b[38;5;21;43m__init__\u001b[39;49m\u001b[43m(\u001b[49m\u001b[38;5;28;43mself\u001b[39;49m\u001b[43m,\u001b[49m\u001b[43m \u001b[49m\u001b[43mdtype\u001b[49m\u001b[38;5;241;43m=\u001b[39;49m\u001b[43mdtype\u001b[49m\u001b[43m,\u001b[49m\u001b[43m \u001b[49m\u001b[43mname\u001b[49m\u001b[38;5;241;43m=\u001b[39;49m\u001b[43mname\u001b[49m\u001b[43m)\u001b[49m\n\u001b[0;32m    248\u001b[0m \u001b[38;5;28mself\u001b[39m\u001b[38;5;241m.\u001b[39mactivity_regularizer \u001b[38;5;241m=\u001b[39m regularizers\u001b[38;5;241m.\u001b[39mget(activity_regularizer)\n\u001b[0;32m    249\u001b[0m input_dim_arg \u001b[38;5;241m=\u001b[39m kwargs\u001b[38;5;241m.\u001b[39mpop(\u001b[38;5;124m\"\u001b[39m\u001b[38;5;124minput_dim\u001b[39m\u001b[38;5;124m\"\u001b[39m, \u001b[38;5;28;01mNone\u001b[39;00m)\n",
      "File \u001b[1;32mc:\\Users\\perez\\AppData\\Local\\Programs\\Python\\Python311\\Lib\\site-packages\\keras\\src\\ops\\operation.py:21\u001b[0m, in \u001b[0;36mOperation.__init__\u001b[1;34m(self, dtype, name)\u001b[0m\n\u001b[0;32m     19\u001b[0m     name \u001b[38;5;241m=\u001b[39m auto_name(\u001b[38;5;28mself\u001b[39m\u001b[38;5;241m.\u001b[39m\u001b[38;5;18m__class__\u001b[39m\u001b[38;5;241m.\u001b[39m\u001b[38;5;18m__name__\u001b[39m)\n\u001b[0;32m     20\u001b[0m \u001b[38;5;28;01mif\u001b[39;00m \u001b[38;5;129;01mnot\u001b[39;00m \u001b[38;5;28misinstance\u001b[39m(name, \u001b[38;5;28mstr\u001b[39m) \u001b[38;5;129;01mor\u001b[39;00m \u001b[38;5;124m\"\u001b[39m\u001b[38;5;124m/\u001b[39m\u001b[38;5;124m\"\u001b[39m \u001b[38;5;129;01min\u001b[39;00m name:\n\u001b[1;32m---> 21\u001b[0m     \u001b[38;5;28;01mraise\u001b[39;00m \u001b[38;5;167;01mValueError\u001b[39;00m(\n\u001b[0;32m     22\u001b[0m         \u001b[38;5;124m\"\u001b[39m\u001b[38;5;124mArgument `name` must be a string and \u001b[39m\u001b[38;5;124m\"\u001b[39m\n\u001b[0;32m     23\u001b[0m         \u001b[38;5;124m\"\u001b[39m\u001b[38;5;124mcannot contain character `/`. \u001b[39m\u001b[38;5;124m\"\u001b[39m\n\u001b[0;32m     24\u001b[0m         \u001b[38;5;124mf\u001b[39m\u001b[38;5;124m\"\u001b[39m\u001b[38;5;124mReceived: name=\u001b[39m\u001b[38;5;132;01m{\u001b[39;00mname\u001b[38;5;132;01m}\u001b[39;00m\u001b[38;5;124m (of type \u001b[39m\u001b[38;5;132;01m{\u001b[39;00m\u001b[38;5;28mtype\u001b[39m(name)\u001b[38;5;132;01m}\u001b[39;00m\u001b[38;5;124m)\u001b[39m\u001b[38;5;124m\"\u001b[39m\n\u001b[0;32m     25\u001b[0m     )\n\u001b[0;32m     26\u001b[0m \u001b[38;5;28mself\u001b[39m\u001b[38;5;241m.\u001b[39mdtype_policy \u001b[38;5;241m=\u001b[39m dtype_policies\u001b[38;5;241m.\u001b[39mget(dtype)\n\u001b[0;32m     27\u001b[0m \u001b[38;5;28mself\u001b[39m\u001b[38;5;241m.\u001b[39mname \u001b[38;5;241m=\u001b[39m name\n",
      "\u001b[1;31mValueError\u001b[0m: Argument `name` must be a string and cannot contain character `/`. Received: name=/model.0/conv/Conv_output_0_pad (of type <class 'str'>)"
     ]
    }
   ],
   "source": [
    "model_name = onnx.load_model('YOLOv5_three_gestures_int8_12.onnx')\n",
    "onnx2keras.onnx_to_keras(model_name,['images'])"
   ]
  }
 ],
 "metadata": {
  "kernelspec": {
   "display_name": "Python 3",
   "language": "python",
   "name": "python3"
  },
  "language_info": {
   "codemirror_mode": {
    "name": "ipython",
    "version": 3
   },
   "file_extension": ".py",
   "mimetype": "text/x-python",
   "name": "python",
   "nbconvert_exporter": "python",
   "pygments_lexer": "ipython3",
   "version": "3.11.6"
  }
 },
 "nbformat": 4,
 "nbformat_minor": 2
}
