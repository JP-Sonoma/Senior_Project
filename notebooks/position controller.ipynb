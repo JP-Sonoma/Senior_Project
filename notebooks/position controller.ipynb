{
 "cells": [
  {
   "cell_type": "markdown",
   "metadata": {},
   "source": [
    "# Switching to Position Controller\n",
    "\n",
    "For using the [crazyflie from bitcraze](https://www.bitcraze.io/products/crazyflie-2-1/) there are two types of contoller API that are developed. For main code, we used motion commander as there was a tutorial for it, but here we are investigating position commander. This contoller uses the positioning system to travel a set distance over traveling over a set time."
   ]
  },
  {
   "cell_type": "code",
   "execution_count": 3,
   "metadata": {},
   "outputs": [],
   "source": [
    "import cflib.crtp\n",
    "from cflib.crazyflie import Crazyflie\n",
    "import cflib.positioning.position_hl_commander as PositionHlCommander"
   ]
  },
  {
   "cell_type": "code",
   "execution_count": null,
   "metadata": {},
   "outputs": [],
   "source": []
  }
 ],
 "metadata": {
  "kernelspec": {
   "display_name": "Python 3",
   "language": "python",
   "name": "python3"
  },
  "language_info": {
   "codemirror_mode": {
    "name": "ipython",
    "version": 3
   },
   "file_extension": ".py",
   "mimetype": "text/x-python",
   "name": "python",
   "nbconvert_exporter": "python",
   "pygments_lexer": "ipython3",
   "version": "3.11.6"
  }
 },
 "nbformat": 4,
 "nbformat_minor": 2
}
