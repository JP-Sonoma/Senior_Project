{
 "cells": [
  {
   "cell_type": "code",
   "execution_count": 1,
   "id": "ccff5caa",
   "metadata": {},
   "outputs": [
    {
     "name": "stdout",
     "output_type": "stream",
     "text": [
      "Requirement already satisfied: cflib in /usr/local/share/pynq-venv/lib/python3.10/site-packages (0.1.24)\n",
      "Requirement already satisfied: pyusb>=1.0.0b2 in /usr/local/share/pynq-venv/lib/python3.10/site-packages (from cflib) (1.2.1)\n",
      "Requirement already satisfied: libusb-package~=1.0 in /usr/local/share/pynq-venv/lib/python3.10/site-packages (from cflib) (1.0.26.1)\n",
      "Requirement already satisfied: scipy~=1.7 in /usr/lib/python3/dist-packages (from cflib) (1.8.0)\n",
      "Requirement already satisfied: numpy<1.25,>=1.20 in /usr/lib/python3/dist-packages (from cflib) (1.21.5)\n"
     ]
    }
   ],
   "source": [
    "!pip install cflib"
   ]
  },
  {
   "cell_type": "code",
   "execution_count": 2,
   "id": "fe2d0c26",
   "metadata": {},
   "outputs": [
    {
     "name": "stdout",
     "output_type": "stream",
     "text": [
      "Requirement already satisfied: pynput in /usr/local/share/pynq-venv/lib/python3.10/site-packages (1.7.6)\n",
      "Requirement already satisfied: evdev>=1.3 in /usr/local/share/pynq-venv/lib/python3.10/site-packages (from pynput) (1.6.1)\n",
      "Requirement already satisfied: python-xlib>=0.17 in /usr/local/share/pynq-venv/lib/python3.10/site-packages (from pynput) (0.33)\n",
      "Requirement already satisfied: six in /usr/lib/python3/dist-packages (from pynput) (1.16.0)\n"
     ]
    }
   ],
   "source": [
    "!pip install pynput"
   ]
  },
  {
   "cell_type": "code",
   "execution_count": 1,
   "id": "36c3a3b5",
   "metadata": {},
   "outputs": [
    {
     "data": {
      "application/javascript": [
       "\n",
       "try {\n",
       "require(['notebook/js/codecell'], function(codecell) {\n",
       "  codecell.CodeCell.options_default.highlight_modes[\n",
       "      'magic_text/x-csrc'] = {'reg':[/^%%microblaze/]};\n",
       "  Jupyter.notebook.events.one('kernel_ready.Kernel', function(){\n",
       "      Jupyter.notebook.get_cells().map(function(cell){\n",
       "          if (cell.cell_type == 'code'){ cell.auto_highlight(); } }) ;\n",
       "  });\n",
       "});\n",
       "} catch (e) {};\n"
      ]
     },
     "metadata": {},
     "output_type": "display_data"
    },
    {
     "data": {
      "application/javascript": [
       "\n",
       "try {\n",
       "require(['notebook/js/codecell'], function(codecell) {\n",
       "  codecell.CodeCell.options_default.highlight_modes[\n",
       "      'magic_text/x-csrc'] = {'reg':[/^%%pybind11/]};\n",
       "  Jupyter.notebook.events.one('kernel_ready.Kernel', function(){\n",
       "      Jupyter.notebook.get_cells().map(function(cell){\n",
       "          if (cell.cell_type == 'code'){ cell.auto_highlight(); } }) ;\n",
       "  });\n",
       "});\n",
       "} catch (e) {};\n"
      ]
     },
     "metadata": {},
     "output_type": "display_data"
    },
    {
     "name": "stdout",
     "output_type": "stream",
     "text": [
      "Crazyflie connected successfully!\n"
     ]
    },
    {
     "name": "stderr",
     "output_type": "stream",
     "text": [
      "Could not save cache, no writable directory\n"
     ]
    }
   ],
   "source": [
    "import tempfile\n",
    "import os\n",
    "import cflib.crtp\n",
    "from cflib.crazyflie import Crazyflie\n",
    "from cflib.positioning.motion_commander import MotionCommander\n",
    "from pynq.overlays.base import BaseOverlay\n",
    "from pynq.lib import Button\n",
    "import logging\n",
    "import time\n",
    "import cv2\n",
    "import numpy as np\n",
    "from pynq.lib.video import VideoMode\n",
    "from pynq.lib.video import PIXEL_RGB\n",
    "\n",
    "\n",
    "# Set a writable directory for the cache\n",
    "cache_dir = tempfile.mkdtemp()\n",
    "os.environ[\"CF2_CACHE_DIR\"] = cache_dir\n",
    "\n",
    "# Initialize the Crazyradio USB dongle\n",
    "cflib.crtp.init_drivers()\n",
    "\n",
    "# Create a Crazyflie object for communication\n",
    "drone = Crazyflie()\n",
    "\n",
    "# Connect to the Crazyflie drone\n",
    "drone.open_link(\"radio://0/80/2M\")\n",
    "\n",
    "# Wait for the Crazyflie to be connected\n",
    "while not drone.is_connected:\n",
    "    print(\"Waiting for the Crazyflie to be connected\")\n",
    "    time.sleep(0.1)\n",
    "\n",
    "if drone.is_connected:\n",
    "    print(\"Crazyflie connected successfully!\")\n",
    "else:\n",
    "    print(\"Failed to connect to the Crazyflie.\")\n",
    "\n",
    "\n",
    "\n",
    "\n"
   ]
  },
  {
   "cell_type": "code",
   "execution_count": 2,
   "id": "686264e9",
   "metadata": {},
   "outputs": [
    {
     "name": "stderr",
     "output_type": "stream",
     "text": [
      "Could not save cache, no writable directory\n"
     ]
    }
   ],
   "source": [
    "class ButtonDroneController:\n",
    "    def __init__(self, cf, mc, buttons):\n",
    "        self.cf = cf\n",
    "        self.mc = mc\n",
    "        self.buttons = buttons\n",
    "\n",
    "        self.velocity = 0.5  # Adjust the velocity value as needed\n",
    "        self.fixed_height = 0.3  # Set the desired height in meters\n",
    "        self.taken_off = False\n",
    "\n",
    "        self.debounce_time = 0.2  # Debounce time in seconds\n",
    "        self.last_button_press_time = [0] * len(buttons)  # Initialize last button press time for each button\n",
    "\n",
    "        print('Press button 0 to take off!')\n",
    "        print('Press button 1 to land!')\n",
    "        print('Press button 2 for emergency stop!')\n",
    "\n",
    "    def control_drone(self, button):\n",
    "        try:\n",
    "            current_time = time.time()\n",
    "            if current_time - self.last_button_press_time[button] < self.debounce_time:\n",
    "                # Button press occurred within debounce time, ignore\n",
    "                return\n",
    "\n",
    "            self.last_button_press_time[button] = current_time\n",
    "\n",
    "            if button == 0:  # Button 0 for takeoff\n",
    "                if not self.taken_off:\n",
    "                    button_press_time = time.time()  # Record button press time\n",
    "                    self.mc.take_off(self.fixed_height)\n",
    "                    #time.sleep(1.0)  # Add a delay after take-off for stabilization\n",
    "                    self.taken_off = True\n",
    "                    command_execution_time = time.time()  # Record command execution time\n",
    "                    delay_time = command_execution_time - button_press_time\n",
    "                    print(f'Delay time: {delay_time:.2f} seconds')\n",
    "\n",
    "                else:\n",
    "                    self.mc.start_linear_motion(0, 0, 0, self.fixed_height)\n",
    "\n",
    "            elif button == 1:  # Button 1 for landing\n",
    "                print('Landing...')\n",
    "                button_press_time = time.time()  # Record button press time\n",
    "                self.mc.land()\n",
    "                self.taken_off = False  # Reset takeoff flag after landing\n",
    "                command_execution_time = time.time()  # Record command execution time\n",
    "                delay_time = command_execution_time - button_press_time\n",
    "                print(f'Delay time: {delay_time:.2f} seconds')\n",
    "\n",
    "            elif button == 2:  # Button 2 for emergency stop\n",
    "                print('Emergency stop!')\n",
    "                button_press_time = time.time()  # Record button press time\n",
    "                self.mc.stop()  # Stop the drone's motion\n",
    "                command_execution_time = time.time()  # Record command execution time\n",
    "                delay_time = command_execution_time - button_press_time\n",
    "                print(f'Delay time: {delay_time:.2f} seconds')\n",
    "                self.mc.close_link()  # Close the connection to the drone\n",
    "\n",
    "            # Add more button mappings for other controls\n",
    "        \n",
    "        except Exception as e:\n",
    "            print(f\"Exception in control_drone: {e}\")"
   ]
  },
  {
   "cell_type": "code",
   "execution_count": null,
   "id": "d4155ac0",
   "metadata": {},
   "outputs": [
    {
     "name": "stdout",
     "output_type": "stream",
     "text": [
      "Press button 0 to take off!\n",
      "Press button 1 to land!\n",
      "Press button 2 for emergency stop!\n"
     ]
    },
    {
     "name": "stderr",
     "output_type": "stream",
     "text": [
      "[ WARN:0] global ./modules/videoio/src/cap_gstreamer.cpp (616) isPipelinePlaying OpenCV | GStreamer warning: GStreamer: pipeline have not been created\n"
     ]
    },
    {
     "name": "stdout",
     "output_type": "stream",
     "text": [
      "Capture device is open: True\n",
      "Landing...\n",
      "Delay time: 0.00 seconds\n",
      "Landing...\n",
      "Delay time: 0.00 seconds\n",
      "Landing...\n",
      "Delay time: 0.00 seconds\n",
      "Landing...\n",
      "Delay time: 0.00 seconds\n",
      "Landing...\n",
      "Delay time: 0.00 seconds\n",
      "Landing...\n",
      "Delay time: 0.00 seconds\n",
      "Landing...\n",
      "Delay time: 0.00 seconds\n",
      "Landing...\n",
      "Delay time: 0.00 seconds\n",
      "Landing...\n",
      "Delay time: 0.00 seconds\n"
     ]
    }
   ],
   "source": [
    "if __name__ == '__main__':\n",
    "    base = BaseOverlay('base.bit')\n",
    "    buttons = [Button(base.buttons[i]) for i in range(3)]\n",
    "\n",
    "    # Initialize the MotionCommander with the Crazyflie object\n",
    "    mc = MotionCommander(drone)\n",
    "\n",
    "    controller = ButtonDroneController(drone, mc, buttons)\n",
    "\n",
    "    # Gesture detection setup\n",
    "    net = cv2.dnn.readNet('yolov3-tiny-custom_best (4).weights', 'yolov3-tiny-custom.cfg')\n",
    "    classes = []\n",
    "    with open(\"obj.names\", \"r\") as f:\n",
    "        classes = [line.strip() for line in f.readlines()]\n",
    "\n",
    "    layer_names = net.getLayerNames()\n",
    "    output_layers = [layer_names[i - 1] for i in net.getUnconnectedOutLayers()]\n",
    "\n",
    "    colors = np.random.uniform(0, 255, size=(len(classes), 3))\n",
    "    \n",
    "    # monitor configuration: 640*480 @ 60Hz\n",
    "    Mode = VideoMode(640,480,24)\n",
    "    hdmi_out = base.video.hdmi_out\n",
    "    hdmi_out.configure(Mode, PIXEL_RGB)\n",
    "    hdmi_out.start()\n",
    "    \n",
    "    # monitor (output) frame buffer size\n",
    "    frame_out_w = 640\n",
    "    frame_out_h = 480\n",
    "    # camera (input) configuration\n",
    "    frame_in_w = 640\n",
    "    frame_in_h = 480\n",
    "    \n",
    "    os.environ[\"OPENCV_LOG_LEVEL\"]=\"SILENT\"\n",
    "    # initialize camera from OpenCV\n",
    "    videoIn = cv2.VideoCapture(0)\n",
    "    #videoIn = cv2.cvtColor(cv2.COLOR_BGR2RGB)\n",
    "    videoIn.set(cv2.CAP_PROP_FRAME_WIDTH, frame_in_w);\n",
    "    videoIn.set(cv2.CAP_PROP_FRAME_HEIGHT, frame_in_h);\n",
    "\n",
    "\n",
    "    print(\"Capture device is open: \" + str(videoIn.isOpened()))\n",
    "\n",
    "    font = cv2.FONT_HERSHEY_PLAIN\n",
    "    frame_id = 1\n",
    "    \n",
    "    try:\n",
    "        while True:\n",
    "\n",
    "            # Gesture detection\n",
    "            ret, frame = videoIn.read()\n",
    "            if ret:\n",
    "                height, width, channels = frame.shape\n",
    "                blob = cv2.dnn.blobFromImage(frame, 0.00392, (64, 64), (0, 0, 0), True, crop=False)\n",
    "\n",
    "                net.setInput(blob)\n",
    "                outs = net.forward(output_layers)\n",
    "\n",
    "                for out in outs:\n",
    "                    for detection in out:\n",
    "                        scores = detection[5:]\n",
    "                        class_id = np.argmax(scores)\n",
    "                        confidence = scores[class_id]\n",
    "                        if confidence > 0.20:\n",
    "                            # Object detected\n",
    "                            center_x = int(detection[0] * width)\n",
    "                            center_y = int(detection[1] * height)\n",
    "                            w = int(detection[2] * width)\n",
    "                            h = int(detection[3] * height)\n",
    "                            # Rectangle coordinates\n",
    "                            x = int(center_x - w / 2)\n",
    "                            y = int(center_y - h / 2)\n",
    "                            label = str(classes[class_id])\n",
    "                            # Execute corresponding drone control based on gesture label\n",
    "                            if label == \"Up\":\n",
    "                                controller.control_drone(0)  # Trigger takeoff button\n",
    "                            elif label == \"Down\":\n",
    "                                controller.control_drone(1)  # Trigger landing button\n",
    "                            elif label == \"Land\":\n",
    "                                controller.control_drone(2)  # Trigger emergency stop button\n",
    "\n",
    "            # Button-based control\n",
    "            for i, button in enumerate(buttons):\n",
    "                if button.read():  # Check if button is pressed\n",
    "                    controller.control_drone(i)\n",
    "\n",
    "            time.sleep(0.1)\n",
    "\n",
    "    except KeyboardInterrupt:\n",
    "        print(\"Exit.\")\n",
    "\n",
    "    # Release resources\n",
    "    videoIn.release()\n",
    "    cv2.destroyAllWindows()"
   ]
  },
  {
   "cell_type": "code",
   "execution_count": null,
   "id": "de807f32",
   "metadata": {},
   "outputs": [],
   "source": []
  }
 ],
 "metadata": {
  "kernelspec": {
   "display_name": "Python 3 (ipykernel)",
   "language": "python",
   "name": "python3"
  },
  "language_info": {
   "codemirror_mode": {
    "name": "ipython",
    "version": 3
   },
   "file_extension": ".py",
   "mimetype": "text/x-python",
   "name": "python",
   "nbconvert_exporter": "python",
   "pygments_lexer": "ipython3",
   "version": "3.10.4"
  }
 },
 "nbformat": 4,
 "nbformat_minor": 5
}
